{
 "cells": [
  {
   "cell_type": "code",
   "execution_count": 1,
   "metadata": {},
   "outputs": [],
   "source": [
    "from pyspark.ml.regression import DecisionTreeRegressor\n",
    "from pyspark.sql import SparkSession\n",
    "from pyspark.ml.feature import VectorAssembler"
   ]
  },
  {
   "cell_type": "code",
   "execution_count": 12,
   "metadata": {},
   "outputs": [
    {
     "name": "stdout",
     "output_type": "stream",
     "text": [
      "['.ipynb_checkpoints', 'realestate.csv', 'Realestae.ipynb', 'structured_network_wordcount.ipynb']\n"
     ]
    }
   ],
   "source": [
    " import os\n",
    " arr = os.listdir()\n",
    " print(arr)"
   ]
  },
  {
   "cell_type": "code",
   "execution_count": 14,
   "metadata": {},
   "outputs": [],
   "source": [
    "# Create a SparkSession (Note, the config section is only for Windows!)\n",
    "spark = SparkSession.builder.appName(\"DecisionTree\").getOrCreate()\n",
    "\n",
    "# Load up data as dataframe\n",
    "data = spark.read.option(\"header\", \"true\").option(\"inferSchema\", \"true\")\\\n",
    "    .csv(\"realestate.csv\")\n",
    "\n",
    "assembler = VectorAssembler().setInputCols([\"HouseAge\", \"DistanceToMRT\", \\\n",
    "                           \"NumberConvenienceStores\"]).setOutputCol(\"features\")"
   ]
  },
  {
   "cell_type": "code",
   "execution_count": 23,
   "metadata": {},
   "outputs": [
    {
     "name": "stdout",
     "output_type": "stream",
     "text": [
      "root\n",
      " |-- No: integer (nullable = true)\n",
      " |-- TransactionDate: double (nullable = true)\n",
      " |-- HouseAge: double (nullable = true)\n",
      " |-- DistanceToMRT: double (nullable = true)\n",
      " |-- NumberConvenienceStores: integer (nullable = true)\n",
      " |-- Latitude: double (nullable = true)\n",
      " |-- Longitude: double (nullable = true)\n",
      " |-- PriceOfUnitArea: double (nullable = true)\n",
      "\n",
      "+---+---------------+--------+-------------+-----------------------+--------+---------+---------------+\n",
      "| No|TransactionDate|HouseAge|DistanceToMRT|NumberConvenienceStores|Latitude|Longitude|PriceOfUnitArea|\n",
      "+---+---------------+--------+-------------+-----------------------+--------+---------+---------------+\n",
      "|  1|       2012.917|    32.0|     84.87882|                     10|24.98298|121.54024|           37.9|\n",
      "|  2|       2012.917|    19.5|     306.5947|                      9|24.98034|121.53951|           42.2|\n",
      "|  3|       2013.583|    13.3|     561.9845|                      5|24.98746|121.54391|           47.3|\n",
      "|  4|         2013.5|    13.3|     561.9845|                      5|24.98746|121.54391|           54.8|\n",
      "|  5|       2012.833|     5.0|     390.5684|                      5|24.97937|121.54245|           43.1|\n",
      "+---+---------------+--------+-------------+-----------------------+--------+---------+---------------+\n",
      "only showing top 5 rows\n",
      "\n"
     ]
    }
   ],
   "source": [
    "data.printSchema();\n",
    "\n",
    "data.show(5)"
   ]
  },
  {
   "cell_type": "code",
   "execution_count": 18,
   "metadata": {},
   "outputs": [
    {
     "name": "stdout",
     "output_type": "stream",
     "text": [
      "root\n",
      " |-- PriceOfUnitArea: double (nullable = true)\n",
      " |-- features: vector (nullable = true)\n",
      "\n",
      "+---------------+--------------------+\n",
      "|PriceOfUnitArea|            features|\n",
      "+---------------+--------------------+\n",
      "|           37.9|[32.0,84.87882,10.0]|\n",
      "|           42.2| [19.5,306.5947,9.0]|\n",
      "|           47.3| [13.3,561.9845,5.0]|\n",
      "|           54.8| [13.3,561.9845,5.0]|\n",
      "|           43.1|  [5.0,390.5684,5.0]|\n",
      "+---------------+--------------------+\n",
      "only showing top 5 rows\n",
      "\n"
     ]
    }
   ],
   "source": [
    "# Data frame\n",
    "df = assembler.transform(data).select(\"PriceOfUnitArea\", \"features\")\n",
    "df.printSchema();\n",
    "\n",
    "df.show(5)"
   ]
  },
  {
   "cell_type": "code",
   "execution_count": 59,
   "metadata": {},
   "outputs": [
    {
     "name": "stdout",
     "output_type": "stream",
     "text": [
      "Lengths --> DF(All):414  ::  Training:190  ::  TestDF:224\n"
     ]
    }
   ],
   "source": [
    "# Let's split our data into training data and testing data\n",
    "trainTest = df.randomSplit([0.5, 0.5])\n",
    "trainingDF = trainTest[0]\n",
    "testDF = trainTest[1]\n",
    "\n",
    "print(\"Lengths --> DF(All):\" + str(df.count()) + \"  ::  Training:\" + str(trainingDF.count()) + \"  ::  TestDF:\" + str(testDF.count()))"
   ]
  },
  {
   "cell_type": "code",
   "execution_count": 46,
   "metadata": {},
   "outputs": [],
   "source": [
    "# Now create our decision tree\n",
    "dtr = DecisionTreeRegressor().setFeaturesCol(\"features\").setLabelCol(\"PriceOfUnitArea\")"
   ]
  },
  {
   "cell_type": "code",
   "execution_count": 47,
   "metadata": {},
   "outputs": [],
   "source": [
    "# Train the model using our training data\n",
    "model = dtr.fit(trainingDF)"
   ]
  },
  {
   "cell_type": "code",
   "execution_count": 48,
   "metadata": {},
   "outputs": [],
   "source": [
    "# Now see if we can predict values in our test data.\n",
    "# Generate predictions using our decision tree model for all features in our\n",
    "# test dataframe:\n",
    "fullPredictions = model.transform(testDF).cache()"
   ]
  },
  {
   "cell_type": "code",
   "execution_count": 49,
   "metadata": {},
   "outputs": [],
   "source": [
    "# Extract the predictions and the \"known\" correct labels.\n",
    "predictions = fullPredictions.select(\"prediction\").rdd.map(lambda x: x[0])\n",
    "labels = fullPredictions.select(\"PriceOfUnitArea\").rdd.map(lambda x: x[0])"
   ]
  },
  {
   "cell_type": "code",
   "execution_count": 50,
   "metadata": {},
   "outputs": [],
   "source": [
    "# Zip them together\n",
    "predictionAndLabel = predictions.zip(labels).collect()"
   ]
  },
  {
   "cell_type": "code",
   "execution_count": 58,
   "metadata": {},
   "outputs": [
    {
     "name": "stdout",
     "output_type": "stream",
     "text": [
      "(34.5125, 7.6)\n",
      "(16.085714285714285, 11.2)\n",
      "(12.899999999999999, 11.6)\n",
      "(23.05384615384616, 13.7)\n",
      "(23.05384615384616, 13.8)\n"
     ]
    }
   ],
   "source": [
    "# Print out the predicted and actual values for each point\n",
    "\n",
    "# ALL\n",
    "for prediction in predictionAndLabel[0:5]:\n",
    "  print(prediction)\n"
   ]
  },
  {
   "cell_type": "code",
   "execution_count": null,
   "metadata": {},
   "outputs": [],
   "source": [
    "# Stop the session\n",
    "spark.stop()"
   ]
  }
 ],
 "metadata": {
  "kernelspec": {
   "display_name": "Python 3",
   "language": "python",
   "name": "python3"
  },
  "language_info": {
   "codemirror_mode": {
    "name": "ipython",
    "version": 3
   },
   "file_extension": ".py",
   "mimetype": "text/x-python",
   "name": "python",
   "nbconvert_exporter": "python",
   "pygments_lexer": "ipython3",
   "version": "3.8.5"
  }
 },
 "nbformat": 4,
 "nbformat_minor": 4
}
